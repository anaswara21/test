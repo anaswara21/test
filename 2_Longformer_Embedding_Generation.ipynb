{
  "cells": [
    {
      "cell_type": "markdown",
      "metadata": {
        "id": "view-in-github",
        "colab_type": "text"
      },
      "source": [
        "<a href=\"https://colab.research.google.com/github/anaswara21/test/blob/main/2_Longformer_Embedding_Generation.ipynb\" target=\"_parent\"><img src=\"https://colab.research.google.com/assets/colab-badge.svg\" alt=\"Open In Colab\"/></a>"
      ]
    },
    {
      "cell_type": "code",
      "execution_count": null,
      "id": "a9f0cba9",
      "metadata": {
        "colab": {
          "base_uri": "https://localhost:8080/"
        },
        "id": "a9f0cba9",
        "outputId": "30afb542-6d27-4e00-e657-e5e84e44cad8"
      },
      "outputs": [
        {
          "output_type": "stream",
          "name": "stderr",
          "text": [
            "[nltk_data] Downloading package averaged_perceptron_tagger to\n",
            "[nltk_data]     /root/nltk_data...\n",
            "[nltk_data]   Package averaged_perceptron_tagger is already up-to-\n",
            "[nltk_data]       date!\n"
          ]
        }
      ],
      "source": [
        "import os\n",
        "import re\n",
        "import nltk\n",
        "import sklearn\n",
        "import pandas as pd\n",
        "from tqdm.notebook import tqdm, trange\n",
        "from nltk.corpus import stopwords\n",
        "from matplotlib import pyplot as plt\n",
        "from nltk.tokenize import word_tokenize, sent_tokenize\n",
        "from nltk.stem import WordNetLemmatizer\n",
        "nltk.download('averaged_perceptron_tagger')\n",
        "import tensorflow_hub as hub\n",
        "import tensorflow as tf"
      ]
    },
    {
      "cell_type": "code",
      "execution_count": null,
      "id": "CXBXGaVeB8m9",
      "metadata": {
        "colab": {
          "base_uri": "https://localhost:8080/"
        },
        "id": "CXBXGaVeB8m9",
        "outputId": "116a2ab8-7294-4439-fe9d-bc5bdfd02e41"
      },
      "outputs": [
        {
          "output_type": "stream",
          "name": "stdout",
          "text": [
            "Drive already mounted at /content/drive; to attempt to forcibly remount, call drive.mount(\"/content/drive\", force_remount=True).\n"
          ]
        }
      ],
      "source": [
        "from google.colab import drive\n",
        "drive.mount('/content/drive')"
      ]
    },
    {
      "cell_type": "code",
      "execution_count": null,
      "id": "cG6-XuRpCrZA",
      "metadata": {
        "colab": {
          "base_uri": "https://localhost:8080/"
        },
        "id": "cG6-XuRpCrZA",
        "outputId": "4e37adf6-abc9-4296-cbbe-cf3bdace09b1"
      },
      "outputs": [
        {
          "output_type": "stream",
          "name": "stdout",
          "text": [
            "/content/drive/MyDrive/context_and_emotion/dataset\n"
          ]
        }
      ],
      "source": [
        "%cd /content/drive/MyDrive/context_and_emotion/dataset"
      ]
    },
    {
      "cell_type": "code",
      "execution_count": null,
      "id": "af6b49e7",
      "metadata": {
        "id": "af6b49e7"
      },
      "outputs": [],
      "source": [
        "dfTrain = pd.read_csv(\"Dataset_PreProcessed.csv\")"
      ]
    },
    {
      "cell_type": "code",
      "execution_count": null,
      "id": "9f88c40d",
      "metadata": {
        "id": "9f88c40d"
      },
      "outputs": [],
      "source": [
        "embeddings=[]"
      ]
    },
    {
      "cell_type": "code",
      "execution_count": null,
      "id": "e5e9143b",
      "metadata": {
        "colab": {
          "base_uri": "https://localhost:8080/",
          "height": 49,
          "referenced_widgets": [
            "577b04ded245447688c537af8ce4beea",
            "ec0bbef2d84648f6868d61898fc7efdd",
            "0baba00bb2924522ac5357805b260514",
            "152f6ab34a2b4d48a6744b646d1869ca",
            "6d06a46e7d4a4953b0bbc0579037b978",
            "99178cedd70f4dcd9608907d1dea0540",
            "634e12fc2a664335aa98b0e9a5c294e6",
            "d8b1ae1db7f146978f5743e08c62dd9c",
            "84f98f918b394736bd834e405b58da23",
            "626538cbac59445290e33ea38e551a15",
            "48f0cda9dab4405c8b5db060b1a1467d"
          ]
        },
        "id": "e5e9143b",
        "outputId": "aa74aaae-7d70-46e0-a1f3-892685232307"
      },
      "outputs": [
        {
          "output_type": "display_data",
          "data": {
            "text/plain": [
              "  0%|          | 0/2010 [00:00<?, ?it/s]"
            ],
            "application/vnd.jupyter.widget-view+json": {
              "version_major": 2,
              "version_minor": 0,
              "model_id": "577b04ded245447688c537af8ce4beea"
            }
          },
          "metadata": {}
        }
      ],
      "source": [
        "import torch\n",
        "\n",
        "from transformers import LongformerModel, AutoTokenizer\n",
        "\n",
        "model = LongformerModel.from_pretrained(\"allenai/longformer-base-4096\")\n",
        "\n",
        "tokenizer = AutoTokenizer.from_pretrained(\"allenai/longformer-base-4096\")\n",
        "\n",
        "for i in trange(len(dfTrain['Text_of_Speech'])):\n",
        "\n",
        "    input_ids = torch.tensor(tokenizer.encode(dfTrain['Text_of_Speech'][i])).unsqueeze(0)  # batch of size 1\n",
        "\n",
        "    attention_mask = torch.ones(\n",
        "\n",
        "        input_ids.shape, dtype=torch.long, device=input_ids.device\n",
        "\n",
        "    )  # initialize to local attention\n",
        "\n",
        "    global_attention_mask = torch.zeros(\n",
        "\n",
        "        input_ids.shape, dtype=torch.long, device=input_ids.device\n",
        "\n",
        "    )  # initialize to global attention to be deactivated for all tokens\n",
        "\n",
        "    global_attention_mask[\n",
        "\n",
        "        :,\n",
        "\n",
        "        [\n",
        "\n",
        "            0,\n",
        "            -1\n",
        "\n",
        "        ],\n",
        "\n",
        "    ] = 1  # Set global attention to random tokens for the sake of this example\n",
        "\n",
        "    # Usually, set global attention based on the task. For example,\n",
        "\n",
        "    # classification: the <s> token\n",
        "\n",
        "    # QA: question tokens\n",
        "\n",
        "    # LM: potentially on the beginning of sentences and paragraphs\n",
        "\n",
        "    outputs = model(input_ids, attention_mask=attention_mask, global_attention_mask=global_attention_mask)\n",
        "\n",
        "    sequence_output = outputs.last_hidden_state\n",
        "\n",
        "    pooled_output = outputs.pooler_output\n",
        "    x=pooled_output.detach().numpy()\n",
        "    embeddings.append(x)\n",
        "\n"
      ]
    },
    {
      "cell_type": "code",
      "execution_count": null,
      "id": "641f3617",
      "metadata": {
        "colab": {
          "base_uri": "https://localhost:8080/"
        },
        "id": "641f3617",
        "outputId": "d95825b7-c183-45f5-94aa-237109a46a00"
      },
      "outputs": [
        {
          "output_type": "execute_result",
          "data": {
            "text/plain": [
              "768"
            ]
          },
          "metadata": {},
          "execution_count": 22
        }
      ],
      "source": [
        "len(embeddings[0][0])"
      ]
    },
    {
      "cell_type": "code",
      "execution_count": null,
      "id": "8f929339",
      "metadata": {
        "id": "8f929339"
      },
      "outputs": [],
      "source": [
        "twoDimentionalEmbedding =[]"
      ]
    },
    {
      "cell_type": "code",
      "execution_count": null,
      "id": "f79eec7e",
      "metadata": {
        "colab": {
          "base_uri": "https://localhost:8080/",
          "height": 49,
          "referenced_widgets": [
            "0d1ad3d0f91e4358b719f96cad5caa81",
            "1d3010e9a98449ab883228dd1878513d",
            "e2fa70eb508049a9b8bca59f6798a106",
            "52170f036d054da694e82b885b2ddc26",
            "d22ff9f61f0d485382ce64607f349cb8",
            "4ddb43c8d39b4065b28e7098eeaec966",
            "88f64bf2bc80475c8784c7e867bc7e90",
            "46c28bde6e6e4b209ad5e69623d668b9",
            "b464b52ff67747bc98055f8a4327318c",
            "df52abe47f964138ba5ae0c49c16807e",
            "608248ca7c584cc984514221eb52e3ed"
          ]
        },
        "id": "f79eec7e",
        "outputId": "ca745624-46d4-4ce7-86cd-9d764d9174e5"
      },
      "outputs": [
        {
          "output_type": "display_data",
          "data": {
            "text/plain": [
              "  0%|          | 0/2010 [00:00<?, ?it/s]"
            ],
            "application/vnd.jupyter.widget-view+json": {
              "version_major": 2,
              "version_minor": 0,
              "model_id": "0d1ad3d0f91e4358b719f96cad5caa81"
            }
          },
          "metadata": {}
        }
      ],
      "source": [
        "for array in trange(len(embeddings)):\n",
        "    twoDimentionalEmbedding.append(embeddings[array][0])"
      ]
    },
    {
      "cell_type": "code",
      "execution_count": null,
      "id": "781b272d",
      "metadata": {
        "colab": {
          "base_uri": "https://localhost:8080/"
        },
        "id": "781b272d",
        "outputId": "a792bcd5-27d0-45e8-ea0c-9dd5f9e6d194"
      },
      "outputs": [
        {
          "output_type": "execute_result",
          "data": {
            "text/plain": [
              "768"
            ]
          },
          "metadata": {},
          "execution_count": 25
        }
      ],
      "source": [
        "len(twoDimentionalEmbedding[0])"
      ]
    },
    {
      "cell_type": "code",
      "execution_count": null,
      "id": "18b8202a",
      "metadata": {
        "id": "18b8202a"
      },
      "outputs": [],
      "source": [
        "columnNames=[]\n",
        "for name in range(768):\n",
        "    columnNames.append(name)"
      ]
    },
    {
      "cell_type": "code",
      "execution_count": null,
      "id": "b6213a6c",
      "metadata": {
        "id": "b6213a6c"
      },
      "outputs": [],
      "source": [
        "dfTrainEmbedded = pd.DataFrame(twoDimentionalEmbedding, columns =columnNames, dtype = float)"
      ]
    },
    {
      "cell_type": "code",
      "execution_count": null,
      "id": "35a67351",
      "metadata": {
        "id": "35a67351"
      },
      "outputs": [],
      "source": [
        "dfTrainEmbedded['Emotion'] = dfTrain['Context']"
      ]
    },
    {
      "cell_type": "code",
      "execution_count": null,
      "id": "6987e408",
      "metadata": {
        "id": "6987e408"
      },
      "outputs": [],
      "source": [
        "dfTrainEmbedded['Context'] = dfTrain['Context']"
      ]
    },
    {
      "cell_type": "code",
      "execution_count": null,
      "id": "56953543",
      "metadata": {
        "id": "56953543"
      },
      "outputs": [],
      "source": [
        "dfTrainEmbedded.to_csv('Dataset_Longformer_Embedded.csv', index=False)"
      ]
    }
  ],
  "metadata": {
    "accelerator": "TPU",
    "colab": {
      "gpuType": "V28",
      "provenance": [],
      "include_colab_link": true
    },
    "kernelspec": {
      "display_name": "Python 3",
      "name": "python3"
    },
    "language_info": {
      "codemirror_mode": {
        "name": "ipython",
        "version": 3
      },
      "file_extension": ".py",
      "mimetype": "text/x-python",
      "name": "python",
      "nbconvert_exporter": "python",
      "pygments_lexer": "ipython3",
      "version": "3.9.7"
    },
    "widgets": {
      "application/vnd.jupyter.widget-state+json": {
        "577b04ded245447688c537af8ce4beea": {
          "model_module": "@jupyter-widgets/controls",
          "model_name": "HBoxModel",
          "model_module_version": "1.5.0",
          "state": {
            "_dom_classes": [],
            "_model_module": "@jupyter-widgets/controls",
            "_model_module_version": "1.5.0",
            "_model_name": "HBoxModel",
            "_view_count": null,
            "_view_module": "@jupyter-widgets/controls",
            "_view_module_version": "1.5.0",
            "_view_name": "HBoxView",
            "box_style": "",
            "children": [
              "IPY_MODEL_ec0bbef2d84648f6868d61898fc7efdd",
              "IPY_MODEL_0baba00bb2924522ac5357805b260514",
              "IPY_MODEL_152f6ab34a2b4d48a6744b646d1869ca"
            ],
            "layout": "IPY_MODEL_6d06a46e7d4a4953b0bbc0579037b978"
          }
        },
        "ec0bbef2d84648f6868d61898fc7efdd": {
          "model_module": "@jupyter-widgets/controls",
          "model_name": "HTMLModel",
          "model_module_version": "1.5.0",
          "state": {
            "_dom_classes": [],
            "_model_module": "@jupyter-widgets/controls",
            "_model_module_version": "1.5.0",
            "_model_name": "HTMLModel",
            "_view_count": null,
            "_view_module": "@jupyter-widgets/controls",
            "_view_module_version": "1.5.0",
            "_view_name": "HTMLView",
            "description": "",
            "description_tooltip": null,
            "layout": "IPY_MODEL_99178cedd70f4dcd9608907d1dea0540",
            "placeholder": "​",
            "style": "IPY_MODEL_634e12fc2a664335aa98b0e9a5c294e6",
            "value": "100%"
          }
        },
        "0baba00bb2924522ac5357805b260514": {
          "model_module": "@jupyter-widgets/controls",
          "model_name": "FloatProgressModel",
          "model_module_version": "1.5.0",
          "state": {
            "_dom_classes": [],
            "_model_module": "@jupyter-widgets/controls",
            "_model_module_version": "1.5.0",
            "_model_name": "FloatProgressModel",
            "_view_count": null,
            "_view_module": "@jupyter-widgets/controls",
            "_view_module_version": "1.5.0",
            "_view_name": "ProgressView",
            "bar_style": "success",
            "description": "",
            "description_tooltip": null,
            "layout": "IPY_MODEL_d8b1ae1db7f146978f5743e08c62dd9c",
            "max": 2010,
            "min": 0,
            "orientation": "horizontal",
            "style": "IPY_MODEL_84f98f918b394736bd834e405b58da23",
            "value": 2010
          }
        },
        "152f6ab34a2b4d48a6744b646d1869ca": {
          "model_module": "@jupyter-widgets/controls",
          "model_name": "HTMLModel",
          "model_module_version": "1.5.0",
          "state": {
            "_dom_classes": [],
            "_model_module": "@jupyter-widgets/controls",
            "_model_module_version": "1.5.0",
            "_model_name": "HTMLModel",
            "_view_count": null,
            "_view_module": "@jupyter-widgets/controls",
            "_view_module_version": "1.5.0",
            "_view_name": "HTMLView",
            "description": "",
            "description_tooltip": null,
            "layout": "IPY_MODEL_626538cbac59445290e33ea38e551a15",
            "placeholder": "​",
            "style": "IPY_MODEL_48f0cda9dab4405c8b5db060b1a1467d",
            "value": " 2010/2010 [14:40&lt;00:00,  2.56it/s]"
          }
        },
        "6d06a46e7d4a4953b0bbc0579037b978": {
          "model_module": "@jupyter-widgets/base",
          "model_name": "LayoutModel",
          "model_module_version": "1.2.0",
          "state": {
            "_model_module": "@jupyter-widgets/base",
            "_model_module_version": "1.2.0",
            "_model_name": "LayoutModel",
            "_view_count": null,
            "_view_module": "@jupyter-widgets/base",
            "_view_module_version": "1.2.0",
            "_view_name": "LayoutView",
            "align_content": null,
            "align_items": null,
            "align_self": null,
            "border": null,
            "bottom": null,
            "display": null,
            "flex": null,
            "flex_flow": null,
            "grid_area": null,
            "grid_auto_columns": null,
            "grid_auto_flow": null,
            "grid_auto_rows": null,
            "grid_column": null,
            "grid_gap": null,
            "grid_row": null,
            "grid_template_areas": null,
            "grid_template_columns": null,
            "grid_template_rows": null,
            "height": null,
            "justify_content": null,
            "justify_items": null,
            "left": null,
            "margin": null,
            "max_height": null,
            "max_width": null,
            "min_height": null,
            "min_width": null,
            "object_fit": null,
            "object_position": null,
            "order": null,
            "overflow": null,
            "overflow_x": null,
            "overflow_y": null,
            "padding": null,
            "right": null,
            "top": null,
            "visibility": null,
            "width": null
          }
        },
        "99178cedd70f4dcd9608907d1dea0540": {
          "model_module": "@jupyter-widgets/base",
          "model_name": "LayoutModel",
          "model_module_version": "1.2.0",
          "state": {
            "_model_module": "@jupyter-widgets/base",
            "_model_module_version": "1.2.0",
            "_model_name": "LayoutModel",
            "_view_count": null,
            "_view_module": "@jupyter-widgets/base",
            "_view_module_version": "1.2.0",
            "_view_name": "LayoutView",
            "align_content": null,
            "align_items": null,
            "align_self": null,
            "border": null,
            "bottom": null,
            "display": null,
            "flex": null,
            "flex_flow": null,
            "grid_area": null,
            "grid_auto_columns": null,
            "grid_auto_flow": null,
            "grid_auto_rows": null,
            "grid_column": null,
            "grid_gap": null,
            "grid_row": null,
            "grid_template_areas": null,
            "grid_template_columns": null,
            "grid_template_rows": null,
            "height": null,
            "justify_content": null,
            "justify_items": null,
            "left": null,
            "margin": null,
            "max_height": null,
            "max_width": null,
            "min_height": null,
            "min_width": null,
            "object_fit": null,
            "object_position": null,
            "order": null,
            "overflow": null,
            "overflow_x": null,
            "overflow_y": null,
            "padding": null,
            "right": null,
            "top": null,
            "visibility": null,
            "width": null
          }
        },
        "634e12fc2a664335aa98b0e9a5c294e6": {
          "model_module": "@jupyter-widgets/controls",
          "model_name": "DescriptionStyleModel",
          "model_module_version": "1.5.0",
          "state": {
            "_model_module": "@jupyter-widgets/controls",
            "_model_module_version": "1.5.0",
            "_model_name": "DescriptionStyleModel",
            "_view_count": null,
            "_view_module": "@jupyter-widgets/base",
            "_view_module_version": "1.2.0",
            "_view_name": "StyleView",
            "description_width": ""
          }
        },
        "d8b1ae1db7f146978f5743e08c62dd9c": {
          "model_module": "@jupyter-widgets/base",
          "model_name": "LayoutModel",
          "model_module_version": "1.2.0",
          "state": {
            "_model_module": "@jupyter-widgets/base",
            "_model_module_version": "1.2.0",
            "_model_name": "LayoutModel",
            "_view_count": null,
            "_view_module": "@jupyter-widgets/base",
            "_view_module_version": "1.2.0",
            "_view_name": "LayoutView",
            "align_content": null,
            "align_items": null,
            "align_self": null,
            "border": null,
            "bottom": null,
            "display": null,
            "flex": null,
            "flex_flow": null,
            "grid_area": null,
            "grid_auto_columns": null,
            "grid_auto_flow": null,
            "grid_auto_rows": null,
            "grid_column": null,
            "grid_gap": null,
            "grid_row": null,
            "grid_template_areas": null,
            "grid_template_columns": null,
            "grid_template_rows": null,
            "height": null,
            "justify_content": null,
            "justify_items": null,
            "left": null,
            "margin": null,
            "max_height": null,
            "max_width": null,
            "min_height": null,
            "min_width": null,
            "object_fit": null,
            "object_position": null,
            "order": null,
            "overflow": null,
            "overflow_x": null,
            "overflow_y": null,
            "padding": null,
            "right": null,
            "top": null,
            "visibility": null,
            "width": null
          }
        },
        "84f98f918b394736bd834e405b58da23": {
          "model_module": "@jupyter-widgets/controls",
          "model_name": "ProgressStyleModel",
          "model_module_version": "1.5.0",
          "state": {
            "_model_module": "@jupyter-widgets/controls",
            "_model_module_version": "1.5.0",
            "_model_name": "ProgressStyleModel",
            "_view_count": null,
            "_view_module": "@jupyter-widgets/base",
            "_view_module_version": "1.2.0",
            "_view_name": "StyleView",
            "bar_color": null,
            "description_width": ""
          }
        },
        "626538cbac59445290e33ea38e551a15": {
          "model_module": "@jupyter-widgets/base",
          "model_name": "LayoutModel",
          "model_module_version": "1.2.0",
          "state": {
            "_model_module": "@jupyter-widgets/base",
            "_model_module_version": "1.2.0",
            "_model_name": "LayoutModel",
            "_view_count": null,
            "_view_module": "@jupyter-widgets/base",
            "_view_module_version": "1.2.0",
            "_view_name": "LayoutView",
            "align_content": null,
            "align_items": null,
            "align_self": null,
            "border": null,
            "bottom": null,
            "display": null,
            "flex": null,
            "flex_flow": null,
            "grid_area": null,
            "grid_auto_columns": null,
            "grid_auto_flow": null,
            "grid_auto_rows": null,
            "grid_column": null,
            "grid_gap": null,
            "grid_row": null,
            "grid_template_areas": null,
            "grid_template_columns": null,
            "grid_template_rows": null,
            "height": null,
            "justify_content": null,
            "justify_items": null,
            "left": null,
            "margin": null,
            "max_height": null,
            "max_width": null,
            "min_height": null,
            "min_width": null,
            "object_fit": null,
            "object_position": null,
            "order": null,
            "overflow": null,
            "overflow_x": null,
            "overflow_y": null,
            "padding": null,
            "right": null,
            "top": null,
            "visibility": null,
            "width": null
          }
        },
        "48f0cda9dab4405c8b5db060b1a1467d": {
          "model_module": "@jupyter-widgets/controls",
          "model_name": "DescriptionStyleModel",
          "model_module_version": "1.5.0",
          "state": {
            "_model_module": "@jupyter-widgets/controls",
            "_model_module_version": "1.5.0",
            "_model_name": "DescriptionStyleModel",
            "_view_count": null,
            "_view_module": "@jupyter-widgets/base",
            "_view_module_version": "1.2.0",
            "_view_name": "StyleView",
            "description_width": ""
          }
        },
        "0d1ad3d0f91e4358b719f96cad5caa81": {
          "model_module": "@jupyter-widgets/controls",
          "model_name": "HBoxModel",
          "model_module_version": "1.5.0",
          "state": {
            "_dom_classes": [],
            "_model_module": "@jupyter-widgets/controls",
            "_model_module_version": "1.5.0",
            "_model_name": "HBoxModel",
            "_view_count": null,
            "_view_module": "@jupyter-widgets/controls",
            "_view_module_version": "1.5.0",
            "_view_name": "HBoxView",
            "box_style": "",
            "children": [
              "IPY_MODEL_1d3010e9a98449ab883228dd1878513d",
              "IPY_MODEL_e2fa70eb508049a9b8bca59f6798a106",
              "IPY_MODEL_52170f036d054da694e82b885b2ddc26"
            ],
            "layout": "IPY_MODEL_d22ff9f61f0d485382ce64607f349cb8"
          }
        },
        "1d3010e9a98449ab883228dd1878513d": {
          "model_module": "@jupyter-widgets/controls",
          "model_name": "HTMLModel",
          "model_module_version": "1.5.0",
          "state": {
            "_dom_classes": [],
            "_model_module": "@jupyter-widgets/controls",
            "_model_module_version": "1.5.0",
            "_model_name": "HTMLModel",
            "_view_count": null,
            "_view_module": "@jupyter-widgets/controls",
            "_view_module_version": "1.5.0",
            "_view_name": "HTMLView",
            "description": "",
            "description_tooltip": null,
            "layout": "IPY_MODEL_4ddb43c8d39b4065b28e7098eeaec966",
            "placeholder": "​",
            "style": "IPY_MODEL_88f64bf2bc80475c8784c7e867bc7e90",
            "value": "100%"
          }
        },
        "e2fa70eb508049a9b8bca59f6798a106": {
          "model_module": "@jupyter-widgets/controls",
          "model_name": "FloatProgressModel",
          "model_module_version": "1.5.0",
          "state": {
            "_dom_classes": [],
            "_model_module": "@jupyter-widgets/controls",
            "_model_module_version": "1.5.0",
            "_model_name": "FloatProgressModel",
            "_view_count": null,
            "_view_module": "@jupyter-widgets/controls",
            "_view_module_version": "1.5.0",
            "_view_name": "ProgressView",
            "bar_style": "success",
            "description": "",
            "description_tooltip": null,
            "layout": "IPY_MODEL_46c28bde6e6e4b209ad5e69623d668b9",
            "max": 2010,
            "min": 0,
            "orientation": "horizontal",
            "style": "IPY_MODEL_b464b52ff67747bc98055f8a4327318c",
            "value": 2010
          }
        },
        "52170f036d054da694e82b885b2ddc26": {
          "model_module": "@jupyter-widgets/controls",
          "model_name": "HTMLModel",
          "model_module_version": "1.5.0",
          "state": {
            "_dom_classes": [],
            "_model_module": "@jupyter-widgets/controls",
            "_model_module_version": "1.5.0",
            "_model_name": "HTMLModel",
            "_view_count": null,
            "_view_module": "@jupyter-widgets/controls",
            "_view_module_version": "1.5.0",
            "_view_name": "HTMLView",
            "description": "",
            "description_tooltip": null,
            "layout": "IPY_MODEL_df52abe47f964138ba5ae0c49c16807e",
            "placeholder": "​",
            "style": "IPY_MODEL_608248ca7c584cc984514221eb52e3ed",
            "value": " 2010/2010 [00:00&lt;00:00, 162194.60it/s]"
          }
        },
        "d22ff9f61f0d485382ce64607f349cb8": {
          "model_module": "@jupyter-widgets/base",
          "model_name": "LayoutModel",
          "model_module_version": "1.2.0",
          "state": {
            "_model_module": "@jupyter-widgets/base",
            "_model_module_version": "1.2.0",
            "_model_name": "LayoutModel",
            "_view_count": null,
            "_view_module": "@jupyter-widgets/base",
            "_view_module_version": "1.2.0",
            "_view_name": "LayoutView",
            "align_content": null,
            "align_items": null,
            "align_self": null,
            "border": null,
            "bottom": null,
            "display": null,
            "flex": null,
            "flex_flow": null,
            "grid_area": null,
            "grid_auto_columns": null,
            "grid_auto_flow": null,
            "grid_auto_rows": null,
            "grid_column": null,
            "grid_gap": null,
            "grid_row": null,
            "grid_template_areas": null,
            "grid_template_columns": null,
            "grid_template_rows": null,
            "height": null,
            "justify_content": null,
            "justify_items": null,
            "left": null,
            "margin": null,
            "max_height": null,
            "max_width": null,
            "min_height": null,
            "min_width": null,
            "object_fit": null,
            "object_position": null,
            "order": null,
            "overflow": null,
            "overflow_x": null,
            "overflow_y": null,
            "padding": null,
            "right": null,
            "top": null,
            "visibility": null,
            "width": null
          }
        },
        "4ddb43c8d39b4065b28e7098eeaec966": {
          "model_module": "@jupyter-widgets/base",
          "model_name": "LayoutModel",
          "model_module_version": "1.2.0",
          "state": {
            "_model_module": "@jupyter-widgets/base",
            "_model_module_version": "1.2.0",
            "_model_name": "LayoutModel",
            "_view_count": null,
            "_view_module": "@jupyter-widgets/base",
            "_view_module_version": "1.2.0",
            "_view_name": "LayoutView",
            "align_content": null,
            "align_items": null,
            "align_self": null,
            "border": null,
            "bottom": null,
            "display": null,
            "flex": null,
            "flex_flow": null,
            "grid_area": null,
            "grid_auto_columns": null,
            "grid_auto_flow": null,
            "grid_auto_rows": null,
            "grid_column": null,
            "grid_gap": null,
            "grid_row": null,
            "grid_template_areas": null,
            "grid_template_columns": null,
            "grid_template_rows": null,
            "height": null,
            "justify_content": null,
            "justify_items": null,
            "left": null,
            "margin": null,
            "max_height": null,
            "max_width": null,
            "min_height": null,
            "min_width": null,
            "object_fit": null,
            "object_position": null,
            "order": null,
            "overflow": null,
            "overflow_x": null,
            "overflow_y": null,
            "padding": null,
            "right": null,
            "top": null,
            "visibility": null,
            "width": null
          }
        },
        "88f64bf2bc80475c8784c7e867bc7e90": {
          "model_module": "@jupyter-widgets/controls",
          "model_name": "DescriptionStyleModel",
          "model_module_version": "1.5.0",
          "state": {
            "_model_module": "@jupyter-widgets/controls",
            "_model_module_version": "1.5.0",
            "_model_name": "DescriptionStyleModel",
            "_view_count": null,
            "_view_module": "@jupyter-widgets/base",
            "_view_module_version": "1.2.0",
            "_view_name": "StyleView",
            "description_width": ""
          }
        },
        "46c28bde6e6e4b209ad5e69623d668b9": {
          "model_module": "@jupyter-widgets/base",
          "model_name": "LayoutModel",
          "model_module_version": "1.2.0",
          "state": {
            "_model_module": "@jupyter-widgets/base",
            "_model_module_version": "1.2.0",
            "_model_name": "LayoutModel",
            "_view_count": null,
            "_view_module": "@jupyter-widgets/base",
            "_view_module_version": "1.2.0",
            "_view_name": "LayoutView",
            "align_content": null,
            "align_items": null,
            "align_self": null,
            "border": null,
            "bottom": null,
            "display": null,
            "flex": null,
            "flex_flow": null,
            "grid_area": null,
            "grid_auto_columns": null,
            "grid_auto_flow": null,
            "grid_auto_rows": null,
            "grid_column": null,
            "grid_gap": null,
            "grid_row": null,
            "grid_template_areas": null,
            "grid_template_columns": null,
            "grid_template_rows": null,
            "height": null,
            "justify_content": null,
            "justify_items": null,
            "left": null,
            "margin": null,
            "max_height": null,
            "max_width": null,
            "min_height": null,
            "min_width": null,
            "object_fit": null,
            "object_position": null,
            "order": null,
            "overflow": null,
            "overflow_x": null,
            "overflow_y": null,
            "padding": null,
            "right": null,
            "top": null,
            "visibility": null,
            "width": null
          }
        },
        "b464b52ff67747bc98055f8a4327318c": {
          "model_module": "@jupyter-widgets/controls",
          "model_name": "ProgressStyleModel",
          "model_module_version": "1.5.0",
          "state": {
            "_model_module": "@jupyter-widgets/controls",
            "_model_module_version": "1.5.0",
            "_model_name": "ProgressStyleModel",
            "_view_count": null,
            "_view_module": "@jupyter-widgets/base",
            "_view_module_version": "1.2.0",
            "_view_name": "StyleView",
            "bar_color": null,
            "description_width": ""
          }
        },
        "df52abe47f964138ba5ae0c49c16807e": {
          "model_module": "@jupyter-widgets/base",
          "model_name": "LayoutModel",
          "model_module_version": "1.2.0",
          "state": {
            "_model_module": "@jupyter-widgets/base",
            "_model_module_version": "1.2.0",
            "_model_name": "LayoutModel",
            "_view_count": null,
            "_view_module": "@jupyter-widgets/base",
            "_view_module_version": "1.2.0",
            "_view_name": "LayoutView",
            "align_content": null,
            "align_items": null,
            "align_self": null,
            "border": null,
            "bottom": null,
            "display": null,
            "flex": null,
            "flex_flow": null,
            "grid_area": null,
            "grid_auto_columns": null,
            "grid_auto_flow": null,
            "grid_auto_rows": null,
            "grid_column": null,
            "grid_gap": null,
            "grid_row": null,
            "grid_template_areas": null,
            "grid_template_columns": null,
            "grid_template_rows": null,
            "height": null,
            "justify_content": null,
            "justify_items": null,
            "left": null,
            "margin": null,
            "max_height": null,
            "max_width": null,
            "min_height": null,
            "min_width": null,
            "object_fit": null,
            "object_position": null,
            "order": null,
            "overflow": null,
            "overflow_x": null,
            "overflow_y": null,
            "padding": null,
            "right": null,
            "top": null,
            "visibility": null,
            "width": null
          }
        },
        "608248ca7c584cc984514221eb52e3ed": {
          "model_module": "@jupyter-widgets/controls",
          "model_name": "DescriptionStyleModel",
          "model_module_version": "1.5.0",
          "state": {
            "_model_module": "@jupyter-widgets/controls",
            "_model_module_version": "1.5.0",
            "_model_name": "DescriptionStyleModel",
            "_view_count": null,
            "_view_module": "@jupyter-widgets/base",
            "_view_module_version": "1.2.0",
            "_view_name": "StyleView",
            "description_width": ""
          }
        }
      }
    }
  },
  "nbformat": 4,
  "nbformat_minor": 5
}